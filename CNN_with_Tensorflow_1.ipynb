{
 "cells": [
  {
   "cell_type": "markdown",
   "metadata": {},
   "source": [
    "# Implementing Convolutional Neural Network (CNN) with Tensorflow\n",
    "\n",
    "## Identyfy handwritten digits in MNIST dataset. \n",
    "\n",
    "Implement CNN with two convolutional layers to identyfy handwritten digits. "
   ]
  },
  {
   "cell_type": "code",
   "execution_count": 1,
   "metadata": {},
   "outputs": [],
   "source": [
    "# Make it work with python2 as well\n",
    "from __future__ import print_function, division\n",
    "from builtins import range\n",
    "\n",
    "# Needed imports\n",
    "import numpy as np\n",
    "import matplotlib.pyplot as plt\n",
    "import tensorflow as tf"
   ]
  },
  {
   "cell_type": "markdown",
   "metadata": {},
   "source": [
    "### MNIST dataset\n",
    "\n",
    "MNIST (\"Modified National Institute of Standards and Technology\") dataset\n",
    "\n",
    "This dataset contains handwritten images of digits 0 to 9. The digits have been size-normalized and centered in a fixed-size image  (28x28). Was released in 1999 and it serves as the basis for benchmarking classification algorithms. "
   ]
  },
  {
   "cell_type": "code",
   "execution_count": 2,
   "metadata": {},
   "outputs": [],
   "source": [
    "mnist = tf.keras.datasets.mnist\n",
    "\n",
    "(XtrainOrig, YtrainOrig),(XtestOrig, YtestOrig) = mnist.load_data()\n"
   ]
  },
  {
   "cell_type": "markdown",
   "metadata": {},
   "source": [
    "### Display Samples from dataset"
   ]
  },
  {
   "cell_type": "code",
   "execution_count": 3,
   "metadata": {},
   "outputs": [
    {
     "data": {
      "image/png": "[encoded data removed]",
      "text/plain": [
       "<Figure size 432x288 with 15 Axes>"
      ]
     },
     "metadata": {
      "needs_background": "light"
     },
     "output_type": "display_data"
    },
    {
     "name": "stdout",
     "output_type": "stream",
     "text": [
      "XtrainOrig.shape = (60000, 28, 28) \t\tYtrainOrig.shape = (60000,)\n",
      "XtestOrig.shape = (10000, 28, 28) \t\tYtestOrig.shape = (10000,)\n"
     ]
    }
   ],
   "source": [
    "f, axarr = plt.subplots(3, 5)\n",
    "for i in range(3):\n",
    "    for j in range(5):\n",
    "        axarr[i, j].imshow(XtrainOrig[i + 5*j], cmap='gray')\n",
    "plt.show()\n",
    "\n",
    "print(\"XtrainOrig.shape =\", XtrainOrig.shape, \"\\t\\tYtrainOrig.shape =\", YtrainOrig.shape)\n",
    "print(\"XtestOrig.shape =\", XtestOrig.shape, \"\\t\\tYtestOrig.shape =\", YtestOrig.shape)\n"
   ]
  },
  {
   "cell_type": "markdown",
   "metadata": {},
   "source": [
    "### Prepare dataset for learning\n",
    "\n",
    "Reshape the vector to add dimention for color channel. Here we have only one color channel. \n",
    "Then convert the pixel values in range 0 to 1 (float)."
   ]
  },
  {
   "cell_type": "code",
   "execution_count": 4,
   "metadata": {},
   "outputs": [
    {
     "name": "stdout",
     "output_type": "stream",
     "text": [
      "Xtrain.shape = (60000, 28, 28, 1) \t\tYtrain_ind.shape = (60000, 10)\n",
      "Xtest.shape = (10000, 28, 28, 1) \t\tYtest_ind.shape = (10000, 10)\n"
     ]
    }
   ],
   "source": [
    "# H - Hight of image, W - Width of image\n",
    "# N - Number of samples\n",
    "# so, D is also number of nodes in the input layer.\n",
    "Ntr, H, W = XtrainOrig.shape\n",
    "Ntt = XtestOrig.shape[0]\n",
    "C = 1 # Number of color channels\n",
    "\n",
    "Xtrain = XtrainOrig.reshape(Ntr, H, W, C)\n",
    "Xtest = XtestOrig.reshape(Ntt, H, W, C)\n",
    "\n",
    "Ytrain, Ytest = YtrainOrig, YtestOrig\n",
    "\n",
    "# Divide by 255.0\n",
    "Xtrain, Xtest = Xtrain / 255.0, Xtest / 255.0\n",
    "\n",
    "\n",
    "# Convert columar indicator vector to binary indicator matrix.\n",
    "# Ex. Y = [2, 1, 0]\n",
    "# return T = [[0, 0, 1], [0, 1, 0], [1, 0, 0]]\n",
    "def conv_indicator_to_matrix(Y, numClasses):\n",
    "    N = len(Y)\n",
    "    T = np.zeros((N, numClasses))\n",
    "    for i in range(N):\n",
    "        T[i, int(Y[i])] = 1\n",
    "    return T\n",
    "\n",
    "# Number of Catagories\n",
    "numCatag = 10\n",
    "\n",
    "Ytrain_ind = conv_indicator_to_matrix(YtrainOrig, numCatag).astype(np.float32)\n",
    "Ytest_ind = conv_indicator_to_matrix(YtestOrig, numCatag).astype(np.float32)\n",
    "\n",
    "print(\"Xtrain.shape =\", Xtrain.shape, \"\\t\\tYtrain_ind.shape =\", Ytrain_ind.shape)\n",
    "print(\"Xtest.shape =\", Xtest.shape, \"\\t\\tYtest_ind.shape =\", Ytest_ind.shape)\n"
   ]
  },
  {
   "cell_type": "markdown",
   "metadata": {},
   "source": [
    "### Defining the Convolutional Neural Network (CNN) with two convolutional layers"
   ]
  },
  {
   "cell_type": "code",
   "execution_count": 5,
   "metadata": {},
   "outputs": [],
   "source": [
    "# Number of nodes in output layer\n",
    "# This is equal to number of catagories in the data\n",
    "K = numCatag\n",
    "M = 300 # Number of nodes in fully connected layer\n",
    "# Pool size for max pooling\n",
    "poolsz = (2, 2)\n",
    "\n",
    "\n",
    "def initFilter(shape, poolsz):\n",
    "    w = np.random.randn(*shape) * np.sqrt(2.0 / np.prod(shape[:-1]))\n",
    "    # w = np.random.randn(*shape) * np.sqrt(2) / np.sqrt(np.prod(shape[:-1]) \n",
    "    #     + shape[-1]*np.prod(shape[:-2]) / np.prod(poolsz))\n",
    "    return w.astype(np.float32)\n",
    "\n",
    "C1_FilterWidth, C1_FilterHight = 3, 3\n",
    "C1_NumFeatureMaps = 20\n",
    "C1_OutWidth = W // poolsz[0]  # Devide for pooling\n",
    "C1_OutHight = H // poolsz[1]  # Devide for pooling\n",
    "#C1_OutWidth = (H - (C1_FilterWidth -1)) / poolsz[0]  # Devide for pooling\n",
    "#C1_OutHight = (H - (C1_FilterHight -1)) / poolsz[1]  # Devide for pooling\n",
    "\n",
    "C2_FilterWidth, C2_FilterHight = 3, 3\n",
    "C2_NumFeatureMaps = 50\n",
    "C2_OutWidth = C1_OutWidth // poolsz[0]  # Devide for pooling\n",
    "C2_OutHight = C1_OutHight // poolsz[1]  # Devide for pooling\n",
    "#C2_OutWidth = (C1_OutWidth - (C2_FilterWidth -1)) / poolsz[0]  # Devide for pooling\n",
    "#C2_OutHight = (C1_OutHight - (C2_FilterHight -1)) / poolsz[1]  # Devide for pooling\n",
    "\n",
    "# Initial weights and bias for convolutional layers\n",
    "W1_shape = (C1_FilterWidth, C1_FilterHight, C, C1_NumFeatureMaps)\n",
    "W1_init = initFilter(W1_shape, poolsz)\n",
    "b1_init = np.zeros(W1_shape[-1], dtype=np.float32) # one bias per output feature map\n",
    "\n",
    "W2_shape = (C2_FilterWidth, C2_FilterHight, C1_NumFeatureMaps, C2_NumFeatureMaps)\n",
    "W2_init = initFilter(W2_shape, poolsz)\n",
    "b2_init = np.zeros(W2_shape[-1], dtype=np.float32)\n",
    "\n",
    "# Initial weights and bias for fully connected layer\n",
    "W3_inSize = C2_NumFeatureMaps * C2_OutWidth * C2_OutHight\n",
    "W3_init = np.random.randn(W3_inSize, M) / np.sqrt(W3_inSize + M)\n",
    "b3_init = np.zeros(M, dtype=np.float32)\n",
    "W4_init = np.random.randn(M, K) / np.sqrt(M + K)\n",
    "b4_init = np.zeros(K, dtype=np.float32)\n",
    "\n",
    "\n",
    "# Define placeholders for inputs.\n",
    "#thY = T.matrix('Y')\n",
    "tfX = tf.placeholder(tf.float32, shape=(None, H, W, C), name='X')\n",
    "tfY = tf.placeholder(tf.float32, shape=(None, K), name='Y')\n",
    "\n",
    "# Variable for neural network weights. These are updated by Tensorflow during training.\n",
    "# These weights are learned during training.\n",
    "W1 = tf.Variable(W1_init.astype(np.float32), name=\"W1\")\n",
    "b1 = tf.Variable(b1_init.astype(np.float32), name=\"b1\")\n",
    "W2 = tf.Variable(W2_init.astype(np.float32), name=\"W2\")\n",
    "b2 = tf.Variable(b2_init.astype(np.float32), name=\"b2\")\n",
    "W3 = tf.Variable(W3_init.astype(np.float32), name=\"W3\")\n",
    "b3 = tf.Variable(b3_init.astype(np.float32), name=\"b3\")\n",
    "W4 = tf.Variable(W4_init.astype(np.float32), name=\"W4\")\n",
    "b4 = tf.Variable(b4_init.astype(np.float32), name=\"b4\")\n",
    "\n",
    "def convpool(X, W, b, psz):\n",
    "    # just assume pool size is (2,2) because we need to augment it with 1s\n",
    "    conv_out = tf.nn.conv2d(X, W, strides=[1, 1, 1, 1], padding='SAME')\n",
    "    conv_out = tf.nn.bias_add(conv_out, b)\n",
    "    pool_out = tf.nn.max_pool(conv_out, ksize=[1, psz[0], psz[1], 1], strides=[1, psz[0], psz[1], 1], padding='SAME')\n",
    "    return tf.nn.relu(pool_out)\n",
    "\n",
    "Z1 = convpool(tfX, W1, b1, poolsz)\n",
    "Z2 = convpool(Z1, W2, b2, poolsz)\n",
    "Z2_shape = Z2.get_shape().as_list()\n",
    "Z2r = tf.reshape(Z2, shape=[-1, np.prod(Z2_shape[1:])])\n",
    "Z3 = tf.nn.relu( tf.matmul(Z2r, W3) + b3 )\n",
    "Y_bar = tf.matmul(Z3, W4) + b4 # In Tensorflow, the cost function includes the softmax, so not needed here.\n",
    "\n",
    "\n",
    "\n",
    "lr = 0.001\n",
    "reg = 0.01\n",
    "\n",
    "# define the cost function and prediction\n",
    "# softmax_cross_entropy_with_logits take in the \"logits\"\n",
    "# if we wanted to know the actual output of the neural net,\n",
    "# we can pass \"Y_bar\" into tf.nn.softmax(logits)\n",
    "cost = tf.reduce_sum(tf.nn.softmax_cross_entropy_with_logits_v2(logits=Y_bar, labels=tfY))\n",
    "# cost = tf.reduce_sum(tf.nn.sparse_softmax_cross_entropy_with_logits(logits=Y_bar,labels=tfY))\n",
    "\n",
    "# we don't implement the learning algorithm ourselves.\n",
    "# We use the RMSprop optimizer provided by Tensorflow. It includes momentum as well.\n",
    "train_op = tf.train.RMSPropOptimizer(lr, decay=(1-reg), momentum=0.9).minimize(cost)\n",
    "\n",
    "# We'll use this to calculate the error rate\n",
    "predict_op = tf.argmax(Y_bar, 1)\n"
   ]
  },
  {
   "cell_type": "markdown",
   "metadata": {},
   "source": [
    "### Training the neural network with Stochastic Gradient Descent\n",
    "\n",
    "Batch gradient descent computes the gradient using the whole dataset. This is great for convex, or relatively smooth error manifolds. In this case, we move somewhat directly towards an optimum solution, either local or global. Additionally, batch gradient descent, given an annealed learning rate, will eventually find the minimum located in it's basin of attraction.\n",
    "\n",
    "Stochastic gradient descent (SGD) computes the gradient using a single sample. Most applications of SGD actually use a minibatch of several samples. SGD works well for error manifolds that have lots of local maxima/minima. In this case, the somewhat noisier gradient calculated using the reduced number of samples tends to jerk the model out of local minima into a region that hopefully is more optimal. Single samples are really noisy, while minibatches tend to average a little of the noise out.\n",
    "Thus, the amount of jerk is reduced when using minibatches. A good balance is struck when the minibatch size is small enough to avoid some of the poor local minima, but large enough that it doesn't avoid the global minima or better-performing local minima. Generally, the best minima have a larger and deeper basin of attraction, and are therefore easier to fall into. One benefit of SGD is that it's computationally a whole lot faster. Large datasets often can't be held in RAM, which makes vectorization much less efficient. Rather, each sample or batch of samples must be loaded, worked with, the results stored, and so on. Minibatch SGD, on the other hand, is usually intentionally made small enough to be computationally tractable. Usually, this computational advantage is leveraged by performing many more iterations of SGD, making many more steps than conventional batch gradient descent. This usually results in a model that is very close to that which would be found via batch gradient descent, or better.\n",
    "\n",
    "The way to think of how SGD works is to imagine that we have one point that represents input distribution. The model is attempting to learn that input distribution. Surrounding the input distribution is a shaded area that represents the input distributions of all of the possible minibatches we could sample. It's usually a fair assumption that the minibatch input distributions are close in proximity to the true input distribution. Batch gradient descent, at all steps, takes the steepest route to reach the true input distribution. SGD, on the other hand, chooses a random point within the shaded area, and takes the steepest route towards this point. At each iteration, though, it chooses a new point. The average of all of these steps will approximate the true input distribution, usually quite well. Thanks to Jason L Bens.\n",
    "\n"
   ]
  },
  {
   "cell_type": "code",
   "execution_count": 6,
   "metadata": {},
   "outputs": [
    {
     "name": "stdout",
     "output_type": "stream",
     "text": [
      "Cost / err at epoch 0:\t 41303.391 / 0.831\n",
      "Cost / err at epoch 1:\t 710.070 / 0.022\n",
      "Cost / err at epoch 2:\t 557.046 / 0.019\n",
      "Cost / err at epoch 3:\t 540.667 / 0.017\n",
      "Cost / err at epoch 4:\t 604.995 / 0.018\n",
      "Cost / err at epoch 5:\t 594.971 / 0.017\n",
      "Cost / err at epoch 6:\t 481.267 / 0.012\n",
      "Cost / err at epoch 7:\t 579.674 / 0.016\n",
      "Cost / err at epoch 8:\t 554.075 / 0.015\n",
      "Cost / err at epoch 9:\t 638.025 / 0.017\n"
     ]
    },
    {
     "data": {
      "image/png": "[encoded data removed]",
      "text/plain": [
       "<Figure size 432x288 with 1 Axes>"
      ]
     },
     "metadata": {
      "needs_background": "light"
     },
     "output_type": "display_data"
    },
    {
     "name": "stdout",
     "output_type": "stream",
     "text": [
      "Prediction error with test set = 0.0145\n"
     ]
    }
   ],
   "source": [
    "def error_rate(p, t):\n",
    "    return np.mean(p != t)\n",
    "\n",
    "max_iter = 10\n",
    "print_period = 25\n",
    "batch_sz = 500\n",
    "n_batches = Ntr // batch_sz\n",
    "\n",
    "#t0 = datetime.now()\n",
    "\n",
    "costs = []\n",
    "init = tf.global_variables_initializer()\n",
    "with tf.Session() as session:\n",
    "    session.run(init)\n",
    "    \n",
    "    for epoch in range(max_iter):\n",
    "        first = 1\n",
    "        for j in range(n_batches):\n",
    "            Xbatch = Xtrain[j*batch_sz:(j*batch_sz + batch_sz),]\n",
    "            Ybatch = Ytrain_ind[j*batch_sz:(j*batch_sz + batch_sz),]\n",
    "\n",
    "            session.run(train_op, feed_dict={tfX: Xbatch, tfY: Ybatch})\n",
    "\n",
    "            # Compute cost on test set to see the learning progress\n",
    "            if j % print_period == 0:\n",
    "                test_cost = session.run(cost, feed_dict={tfX: Xtest, tfY: Ytest_ind})\n",
    "                prediction = session.run(predict_op, feed_dict={tfX: Xtest})\n",
    "                err = error_rate(prediction, Ytest)\n",
    "                costs.append(test_cost)\n",
    "                if first:\n",
    "                    first = 0\n",
    "                    print(\"Cost / err at epoch %d:\\t %.3f / %.3f\" % (epoch, test_cost, err))\n",
    "\n",
    "\n",
    "    plt.plot(costs)\n",
    "    plt.show()\n",
    "\n",
    "    prediction_val = session.run(predict_op, feed_dict={tfX: Xtest})\n",
    "    err = error_rate(prediction_val, Ytest)\n",
    "    print(\"Prediction error with test set =\", err)\n"
   ]
  },
  {
   "cell_type": "code",
   "execution_count": null,
   "metadata": {},
   "outputs": [],
   "source": []
  }
 ],
 "metadata": {
  "kernelspec": {
   "display_name": "Python 3",
   "language": "python",
   "name": "python3"
  },
  "language_info": {
   "codemirror_mode": {
    "name": "ipython",
    "version": 3
   },
   "file_extension": ".py",
   "mimetype": "text/x-python",
   "name": "python",
   "nbconvert_exporter": "python",
   "pygments_lexer": "ipython3",
   "version": "3.6.7"
  }
 },
 "nbformat": 4,
 "nbformat_minor": 2
}
